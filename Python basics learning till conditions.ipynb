{
 "cells": [
  {
   "cell_type": "code",
   "execution_count": 3,
   "id": "ad15561c",
   "metadata": {},
   "outputs": [
    {
     "name": "stdout",
     "output_type": "stream",
     "text": [
      "Safrath is the best\n"
     ]
    }
   ],
   "source": [
    "name =\"Safrath \"\n",
    "concetanation= name +\"is the best\"\n",
    "print(concetanation)"
   ]
  },
  {
   "cell_type": "code",
   "execution_count": 7,
   "id": "3186f2e7",
   "metadata": {},
   "outputs": [
    {
     "name": "stdout",
     "output_type": "stream",
     "text": [
      "[' Hello S', 'fr', 'th']\n"
     ]
    }
   ],
   "source": [
    "text=\" Hello Safrath\"\n",
    "new_text=text.split('a')\n",
    "print(new_text)"
   ]
  },
  {
   "cell_type": "code",
   "execution_count": 15,
   "id": "f42389ad",
   "metadata": {},
   "outputs": [
    {
     "name": "stdout",
     "output_type": "stream",
     "text": [
      "Hello Safrath how r u\n"
     ]
    }
   ],
   "source": [
    "text=\"Hello Safrath how r u\"\n",
    "new_text=text.strip()\n",
    "print(new_text)"
   ]
  },
  {
   "cell_type": "code",
   "execution_count": 16,
   "id": "fc380064",
   "metadata": {},
   "outputs": [
    {
     "name": "stdout",
     "output_type": "stream",
     "text": [
      "['Michael Jackson', 10.2, 'pop', 10]\n"
     ]
    }
   ],
   "source": [
    "L = [ \"Michael Jackson\", 10.2]\n",
    "L.extend(['pop', 10])\n",
    "print(L)"
   ]
  },
  {
   "cell_type": "code",
   "execution_count": 18,
   "id": "263e67bd",
   "metadata": {},
   "outputs": [
    {
     "data": {
      "text/plain": [
       "['Michael Jackson', 10.2, ['pop', 10]]"
      ]
     },
     "execution_count": 18,
     "metadata": {},
     "output_type": "execute_result"
    }
   ],
   "source": [
    "L = [ \"Michael Jackson\", 10.2]\n",
    "L.append(['pop', 10])\n",
    "L"
   ]
  },
  {
   "cell_type": "code",
   "execution_count": 19,
   "id": "1c7d7bd1",
   "metadata": {},
   "outputs": [
    {
     "data": {
      "text/plain": [
       "['hard', 'rock']"
      ]
     },
     "execution_count": 19,
     "metadata": {},
     "output_type": "execute_result"
    }
   ],
   "source": [
    "'hard rock'.split()"
   ]
  },
  {
   "cell_type": "code",
   "execution_count": 20,
   "id": "378eddd3",
   "metadata": {},
   "outputs": [
    {
     "data": {
      "text/plain": [
       "['A', 'B', 'C', 'D']"
      ]
     },
     "execution_count": 20,
     "metadata": {},
     "output_type": "execute_result"
    }
   ],
   "source": [
    "'A,B,C,D'.split(',')"
   ]
  },
  {
   "cell_type": "code",
   "execution_count": 21,
   "id": "84885e96",
   "metadata": {},
   "outputs": [
    {
     "name": "stdout",
     "output_type": "stream",
     "text": [
      "Before change: ['disco', 10, 1.2]\n",
      "After change: ['hard rock', 10, 1.2]\n"
     ]
    }
   ],
   "source": [
    "A = [\"disco\", 10, 1.2]\n",
    "print('Before change:', A)\n",
    "A[0] = 'hard rock'\n",
    "print('After change:', A)"
   ]
  },
  {
   "cell_type": "code",
   "execution_count": 22,
   "id": "15652a64",
   "metadata": {},
   "outputs": [
    {
     "name": "stdout",
     "output_type": "stream",
     "text": [
      "Before change: ['hard rock', 10, 1.2]\n",
      "After change: [10, 1.2]\n"
     ]
    }
   ],
   "source": [
    "print('Before change:', A)\n",
    "del(A[0])\n",
    "print('After change:', A)"
   ]
  },
  {
   "cell_type": "code",
   "execution_count": 26,
   "id": "d16d0e72",
   "metadata": {},
   "outputs": [
    {
     "name": "stdout",
     "output_type": "stream",
     "text": [
      "[2, 3, 4, 5, 4, 7, 43, 5, 34]\n"
     ]
    }
   ],
   "source": [
    "my_list=[2,3,4,5,2,4,7,43,5,34]\n",
    "del my_list[4]\n",
    "print(my_list)"
   ]
  },
  {
   "cell_type": "code",
   "execution_count": 29,
   "id": "13cf80d2",
   "metadata": {},
   "outputs": [
    {
     "name": "stdout",
     "output_type": "stream",
     "text": [
      "[['rock', 'hard'], 1, 2, 3, 4, 5]\n"
     ]
    }
   ],
   "source": [
    "my_list = [1, 2, 3, 4, 5]\n",
    "my_list.insert(0, ['rock','hard'])\n",
    "print(my_list)"
   ]
  },
  {
   "cell_type": "code",
   "execution_count": 30,
   "id": "1d0bd5b8",
   "metadata": {},
   "outputs": [
    {
     "data": {
      "text/plain": [
       "{'key1': 1,\n",
       " 'key2': '2',\n",
       " 'key3': [3, 3, 3],\n",
       " 'key4': (4, 4, 4),\n",
       " 'key5': 5,\n",
       " (0, 1): 6}"
      ]
     },
     "execution_count": 30,
     "metadata": {},
     "output_type": "execute_result"
    }
   ],
   "source": [
    "#dictionary\n",
    "Dict = {\"key1\": 1, \"key2\": \"2\", \"key3\": [3, 3, 3], \"key4\": (4, 4, 4), ('key5'): 5, (0, 1): 6}\n",
    "Dict"
   ]
  },
  {
   "cell_type": "code",
   "execution_count": 31,
   "id": "3d46e05b",
   "metadata": {},
   "outputs": [
    {
     "data": {
      "text/plain": [
       "(4, 4, 4)"
      ]
     },
     "execution_count": 31,
     "metadata": {},
     "output_type": "execute_result"
    }
   ],
   "source": [
    "Dict[\"key4\"]"
   ]
  },
  {
   "cell_type": "code",
   "execution_count": 32,
   "id": "aa406cbe",
   "metadata": {},
   "outputs": [
    {
     "data": {
      "text/plain": [
       "dict_keys(['key1', 'key2', 'key3', 'key4', 'key5', (0, 1)])"
      ]
     },
     "execution_count": 32,
     "metadata": {},
     "output_type": "execute_result"
    }
   ],
   "source": [
    "Dict.keys()"
   ]
  },
  {
   "cell_type": "code",
   "execution_count": 34,
   "id": "c5f0176c",
   "metadata": {},
   "outputs": [
    {
     "data": {
      "text/plain": [
       "dict_values([1, '2', [3, 3, 3], (4, 4, 4), 5, 6])"
      ]
     },
     "execution_count": 34,
     "metadata": {},
     "output_type": "execute_result"
    }
   ],
   "source": [
    "Dict.values()"
   ]
  },
  {
   "cell_type": "code",
   "execution_count": 36,
   "id": "2a5f7701",
   "metadata": {},
   "outputs": [
    {
     "data": {
      "text/plain": [
       "{'key1': 1,\n",
       " 'key2': '2',\n",
       " 'key3': [3, 3, 3],\n",
       " 'key4': (4, 4, 4),\n",
       " 'key5': 5,\n",
       " (0, 1): 6,\n",
       " 'keys9': 2009}"
      ]
     },
     "execution_count": 36,
     "metadata": {},
     "output_type": "execute_result"
    }
   ],
   "source": [
    "#new entry\n",
    "Dict[\"keys9\"]=2009\n",
    "Dict"
   ]
  },
  {
   "cell_type": "code",
   "execution_count": 37,
   "id": "55404dbc",
   "metadata": {},
   "outputs": [],
   "source": [
    "#delete operation of dictionaries\n",
    "del(Dict['key2'])"
   ]
  },
  {
   "cell_type": "code",
   "execution_count": 38,
   "id": "1c9267ac",
   "metadata": {},
   "outputs": [
    {
     "data": {
      "text/plain": [
       "{'key1': 1,\n",
       " 'key3': [3, 3, 3],\n",
       " 'key4': (4, 4, 4),\n",
       " 'key5': 5,\n",
       " (0, 1): 6,\n",
       " 'keys9': 2009}"
      ]
     },
     "execution_count": 38,
     "metadata": {},
     "output_type": "execute_result"
    }
   ],
   "source": [
    "Dict"
   ]
  },
  {
   "cell_type": "code",
   "execution_count": 39,
   "id": "50ec29a1",
   "metadata": {},
   "outputs": [
    {
     "data": {
      "text/plain": [
       "False"
      ]
     },
     "execution_count": 39,
     "metadata": {},
     "output_type": "execute_result"
    }
   ],
   "source": [
    "#cheking in dictionaries\n",
    "5 in Dict"
   ]
  },
  {
   "cell_type": "code",
   "execution_count": 40,
   "id": "c2fdd809",
   "metadata": {},
   "outputs": [
    {
     "data": {
      "text/plain": [
       "True"
      ]
     },
     "execution_count": 40,
     "metadata": {},
     "output_type": "execute_result"
    }
   ],
   "source": [
    "'key3' in Dict"
   ]
  },
  {
   "cell_type": "code",
   "execution_count": 41,
   "id": "e4b5bd62",
   "metadata": {},
   "outputs": [
    {
     "name": "stdout",
     "output_type": "stream",
     "text": [
      "{'productNo1': 'mobile Phone', 'productNo1Qunatities': 1000, 'productNo1Price': 30000, 'productNo1realeaseYear': 2020, 'productNo2': 'Laptop', 'productNo2Qunatities': 123, 'productNo2Price': 120000, 'productNo2realeaseYear': 2023}\n"
     ]
    }
   ],
   "source": [
    "#Dictinaries Practice\n",
    "inventory={}\n",
    "#product1\n",
    "productNo1='mobile Phone'\n",
    "productNo1Qunatities=1000\n",
    "productNo1Price=30000\n",
    "productNo1realeaseYear=2020\n",
    "#product 2\n",
    "productNo2='Laptop'\n",
    "productNo2Qunatities=123\n",
    "productNo2Price=120000\n",
    "productNo2realeaseYear=2023\n",
    "#addressing in dictionaries\n",
    "inventory['productNo1']=productNo1\n",
    "inventory['productNo1Qunatities']=productNo1Qunatities\n",
    "inventory['productNo1Price']=productNo1Price\n",
    "inventory['productNo1realeaseYear']=productNo1realeaseYear\n",
    "\n",
    "inventory['productNo2']=productNo2\n",
    "inventory['productNo2Qunatities']=productNo2Qunatities\n",
    "inventory['productNo2Price']=productNo2Price\n",
    "inventory['productNo2realeaseYear']=productNo2realeaseYear\n",
    "\n",
    "print(inventory)\n",
    "\n"
   ]
  },
  {
   "cell_type": "code",
   "execution_count": 92,
   "id": "f4e20b11",
   "metadata": {},
   "outputs": [
    {
     "data": {
      "text/plain": [
       "{'productNo1': 'mobile Phone',\n",
       " 'productNo1Qunatities': 1000,\n",
       " 'productNo1Price': 30000,\n",
       " 'productNo2': 'Laptop',\n",
       " 'productNo2Qunatities': 123,\n",
       " 'productNo2Price': 120000,\n",
       " 'productNo2realeaseYear': 2023,\n",
       " 'productNo!realeasrYear': '2020'}"
      ]
     },
     "execution_count": 92,
     "metadata": {},
     "output_type": "execute_result"
    }
   ],
   "source": [
    "inventory.update({'productNo!realeasrYear': '2020'})\n",
    "inventory"
   ]
  },
  {
   "cell_type": "code",
   "execution_count": 91,
   "id": "e8d09eef",
   "metadata": {},
   "outputs": [
    {
     "data": {
      "text/plain": [
       "[('productNo1', 'mobile Phone'),\n",
       " ('productNo1Qunatities', 1000),\n",
       " ('productNo1Price', 30000),\n",
       " ('productNo2', 'Laptop'),\n",
       " ('productNo2Qunatities', 123),\n",
       " ('productNo2Price', 120000),\n",
       " ('productNo2realeaseYear', 2023)]"
      ]
     },
     "execution_count": 91,
     "metadata": {},
     "output_type": "execute_result"
    }
   ],
   "source": [
    "#items method use for making list from Disctionatis\n",
    "\n",
    "c=list(inventory.items())\n",
    "c"
   ]
  },
  {
   "cell_type": "code",
   "execution_count": 49,
   "id": "7ca3f446",
   "metadata": {},
   "outputs": [
    {
     "data": {
      "text/plain": [
       "True"
      ]
     },
     "execution_count": 49,
     "metadata": {},
     "output_type": "execute_result"
    }
   ],
   "source": [
    "'productNo1realeaseYear' in inventory"
   ]
  },
  {
   "cell_type": "code",
   "execution_count": 50,
   "id": "5af8016a",
   "metadata": {},
   "outputs": [],
   "source": [
    "del(inventory['productNo1realeaseYear'])"
   ]
  },
  {
   "cell_type": "code",
   "execution_count": 51,
   "id": "d8021886",
   "metadata": {},
   "outputs": [
    {
     "data": {
      "text/plain": [
       "{'productNo1': 'mobile Phone',\n",
       " 'productNo1Qunatities': 1000,\n",
       " 'productNo1Price': 30000,\n",
       " 'productNo2': 'Laptop',\n",
       " 'productNo2Qunatities': 123,\n",
       " 'productNo2Price': 120000,\n",
       " 'productNo2realeaseYear': 2023}"
      ]
     },
     "execution_count": 51,
     "metadata": {},
     "output_type": "execute_result"
    }
   ],
   "source": [
    "inventory"
   ]
  },
  {
   "cell_type": "code",
   "execution_count": 54,
   "id": "c319ac21",
   "metadata": {},
   "outputs": [
    {
     "data": {
      "text/plain": [
       "{'R&B',\n",
       " 'disco',\n",
       " 'folk rock',\n",
       " 'hard rock',\n",
       " 'pop',\n",
       " 'progressive rock',\n",
       " 'rock',\n",
       " 'soft rock',\n",
       " 'soul'}"
      ]
     },
     "execution_count": 54,
     "metadata": {},
     "output_type": "execute_result"
    }
   ],
   "source": [
    "#Set\n",
    "#set doesn't carry duplicate values\n",
    "album_list =[\"pop\", \"pop\", \"rock\", \"folk rock\", \"hard rock\", \"soul\", \\\n",
    "                    \"progressive rock\", \"soft rock\", \"R&B\", \"disco\"]\n",
    "new_album=set(album_list)\n",
    "new_album"
   ]
  },
  {
   "cell_type": "code",
   "execution_count": 55,
   "id": "344c563a",
   "metadata": {},
   "outputs": [
    {
     "data": {
      "text/plain": [
       "{'R&B',\n",
       " 'disco',\n",
       " 'folk rock',\n",
       " 'hard rock',\n",
       " 'hola amigo',\n",
       " 'pop',\n",
       " 'progressive rock',\n",
       " 'rock',\n",
       " 'soft rock',\n",
       " 'soul'}"
      ]
     },
     "execution_count": 55,
     "metadata": {},
     "output_type": "execute_result"
    }
   ],
   "source": [
    "new_album.add('hola amigo')\n",
    "new_album"
   ]
  },
  {
   "cell_type": "code",
   "execution_count": 56,
   "id": "8bf7f378",
   "metadata": {},
   "outputs": [
    {
     "data": {
      "text/plain": [
       "{'R&B',\n",
       " 'folk rock',\n",
       " 'hard rock',\n",
       " 'hola amigo',\n",
       " 'pop',\n",
       " 'progressive rock',\n",
       " 'rock',\n",
       " 'soft rock',\n",
       " 'soul'}"
      ]
     },
     "execution_count": 56,
     "metadata": {},
     "output_type": "execute_result"
    }
   ],
   "source": [
    "new_album.remove('disco')\n",
    "new_album"
   ]
  },
  {
   "cell_type": "code",
   "execution_count": null,
   "id": "d6725557",
   "metadata": {},
   "outputs": [],
   "source": []
  },
  {
   "cell_type": "code",
   "execution_count": 86,
   "id": "3f2e3d4e",
   "metadata": {},
   "outputs": [
    {
     "data": {
      "text/plain": [
       "True"
      ]
     },
     "execution_count": 86,
     "metadata": {},
     "output_type": "execute_result"
    }
   ],
   "source": [
    "'soul'in new_album"
   ]
  },
  {
   "cell_type": "code",
   "execution_count": 66,
   "id": "45e3117d",
   "metadata": {},
   "outputs": [
    {
     "data": {
      "text/plain": [
       "{'ami', 'uff'}"
      ]
     },
     "execution_count": 66,
     "metadata": {},
     "output_type": "execute_result"
    }
   ],
   "source": [
    "#intersection in set\n",
    "\n",
    "A=set([\"111\", 23,'ami', 'hi' ,'jah', 'uff'])\n",
    "B=set(['uff','ami','tumi' ,'jaw','hate','dhur'])\n",
    "\n",
    "intersection=A & B\n",
    "intersection"
   ]
  },
  {
   "cell_type": "code",
   "execution_count": 67,
   "id": "acd535bf",
   "metadata": {},
   "outputs": [
    {
     "data": {
      "text/plain": [
       "{'111', 23, 'hi', 'jah'}"
      ]
     },
     "execution_count": 67,
     "metadata": {},
     "output_type": "execute_result"
    }
   ],
   "source": [
    "#use difference method to find the other element in A\n",
    "A.difference(B)"
   ]
  },
  {
   "cell_type": "code",
   "execution_count": 68,
   "id": "c666d404",
   "metadata": {},
   "outputs": [
    {
     "data": {
      "text/plain": [
       "{'ami', 'uff'}"
      ]
     },
     "execution_count": 68,
     "metadata": {},
     "output_type": "execute_result"
    }
   ],
   "source": [
    "A.intersection(B)"
   ]
  },
  {
   "cell_type": "code",
   "execution_count": 69,
   "id": "dc0bd8ee",
   "metadata": {},
   "outputs": [
    {
     "data": {
      "text/plain": [
       "{'111', 23, 'ami', 'dhur', 'hate', 'hi', 'jah', 'jaw', 'tumi', 'uff'}"
      ]
     },
     "execution_count": 69,
     "metadata": {},
     "output_type": "execute_result"
    }
   ],
   "source": [
    "A.union(B)"
   ]
  },
  {
   "cell_type": "code",
   "execution_count": 77,
   "id": "feb9e6d8",
   "metadata": {},
   "outputs": [
    {
     "data": {
      "text/plain": [
       "True"
      ]
     },
     "execution_count": 77,
     "metadata": {},
     "output_type": "execute_result"
    }
   ],
   "source": [
    "set(A).issubset(A.union(B))"
   ]
  },
  {
   "cell_type": "code",
   "execution_count": 74,
   "id": "5bcc667d",
   "metadata": {},
   "outputs": [
    {
     "data": {
      "text/plain": [
       "False"
      ]
     },
     "execution_count": 74,
     "metadata": {},
     "output_type": "execute_result"
    }
   ],
   "source": [
    "set(A).issuperset(B)"
   ]
  },
  {
   "cell_type": "code",
   "execution_count": 93,
   "id": "20d67ac0",
   "metadata": {},
   "outputs": [
    {
     "data": {
      "text/plain": [
       "{'111', 23, 'dhur', 'hate', 'hi', 'jah', 'jaw', 'tumi'}"
      ]
     },
     "execution_count": 93,
     "metadata": {},
     "output_type": "execute_result"
    }
   ],
   "source": [
    "A.symmetric_difference(B)"
   ]
  },
  {
   "cell_type": "code",
   "execution_count": 94,
   "id": "154a51ef",
   "metadata": {},
   "outputs": [
    {
     "data": {
      "text/plain": [
       "True"
      ]
     },
     "execution_count": 94,
     "metadata": {},
     "output_type": "execute_result"
    }
   ],
   "source": [
    "#conditions\n",
    "\n",
    "'BA' > 'AB'"
   ]
  },
  {
   "cell_type": "code",
   "execution_count": 95,
   "id": "e1e1f450",
   "metadata": {},
   "outputs": [
    {
     "name": "stdout",
     "output_type": "stream",
     "text": [
      "go see Pink Floyd\n",
      "move on\n"
     ]
    }
   ],
   "source": [
    "age = 18\n",
    "\n",
    "if age > 18:\n",
    "    print(\"you can enter\" )\n",
    "elif age == 18:\n",
    "    print(\"go see Pink Floyd\")\n",
    "else:\n",
    "    print(\"go see Meat Loaf\" )\n",
    "    \n",
    "print(\"move on\")"
   ]
  },
  {
   "cell_type": "code",
   "execution_count": 107,
   "id": "6b2c86a6",
   "metadata": {},
   "outputs": [
    {
     "name": "stdout",
     "output_type": "stream",
     "text": [
      "Album year is not 1984\n"
     ]
    }
   ],
   "source": [
    "album_year = 1983\n",
    "\n",
    "if not (album_year == 1984):\n",
    "    print (\"Album year is not 1984\")\n",
    "   "
   ]
  },
  {
   "cell_type": "code",
   "execution_count": 116,
   "id": "69817074",
   "metadata": {},
   "outputs": [
    {
     "ename": "SyntaxError",
     "evalue": "invalid syntax (3668483280.py, line 9)",
     "output_type": "error",
     "traceback": [
      "\u001b[1;36m  Cell \u001b[1;32mIn[116], line 9\u001b[1;36m\u001b[0m\n\u001b[1;33m    else:\u001b[0m\n\u001b[1;37m    ^\u001b[0m\n\u001b[1;31mSyntaxError\u001b[0m\u001b[1;31m:\u001b[0m invalid syntax\n"
     ]
    }
   ],
   "source": [
    "#Atm \n",
    "user_choice = \"Withdraw Cash\"\n",
    "if user_choice == \"Withdraw Cash\":\n",
    "    amount = input(\"Enter the amount to withdraw: \")\n",
    "if amount % 10 == 0:\n",
    "    dispense_cash(amount)\n",
    "else:\n",
    "    print(\"Please enter a multiple of 10.\")\n",
    "    else:\n",
    "\n",
    "        print(\"Thank you for using the ATM.\")"
   ]
  },
  {
   "cell_type": "code",
   "execution_count": 121,
   "id": "3e833b3b",
   "metadata": {},
   "outputs": [
    {
     "name": "stdout",
     "output_type": "stream",
     "text": [
      "we are\n"
     ]
    }
   ],
   "source": [
    "friends1=True\n",
    "friends2=False\n",
    "friends3=False\n",
    "if friends1 or friends2 or friends3:\n",
    "    print('we are')\n"
   ]
  },
  {
   "cell_type": "code",
   "execution_count": null,
   "id": "6ff5d37f",
   "metadata": {},
   "outputs": [],
   "source": []
  }
 ],
 "metadata": {
  "kernelspec": {
   "display_name": "Python 3 (ipykernel)",
   "language": "python",
   "name": "python3"
  },
  "language_info": {
   "codemirror_mode": {
    "name": "ipython",
    "version": 3
   },
   "file_extension": ".py",
   "mimetype": "text/x-python",
   "name": "python",
   "nbconvert_exporter": "python",
   "pygments_lexer": "ipython3",
   "version": "3.11.5"
  }
 },
 "nbformat": 4,
 "nbformat_minor": 5
}
